{
 "cells": [
  {
   "cell_type": "markdown",
   "id": "419687dc",
   "metadata": {},
   "source": [
    "# Question 1\n",
    "\n",
    "Consider the following Python module:\n",
    "a = 0\n",
    "def b():\n",
    " global a\n",
    " a = c(a)\n",
    "def c(a):\n",
    " return a + 2\n",
    "After importing the module into the interpreter, you execute:\n",
    ">>> b()\n",
    ">>> b()\n",
    ">>> b()\n",
    ">>> a\n",
    "?\n",
    "What value is displayed when the last expression (a) is evaluated? Explain your\n",
    "answer by indicating what happens in every executed statement."
   ]
  },
  {
   "cell_type": "code",
   "execution_count": 22,
   "id": "4ea3773d",
   "metadata": {},
   "outputs": [
    {
     "name": "stdout",
     "output_type": "stream",
     "text": [
      "6\n"
     ]
    }
   ],
   "source": [
    "a = 0\n",
    "\n",
    "def b():\n",
    "    global a\n",
    "    a = c(a)\n",
    "\n",
    "def c(a):\n",
    "    return a + 2\n",
    "b()\n",
    "b()\n",
    "b()\n",
    "print(a)\n"
   ]
  },
  {
   "cell_type": "code",
   "execution_count": null,
   "id": "77fa773a",
   "metadata": {},
   "outputs": [],
   "source": [
    "Explanation of Question 1\n",
    "\n",
    "When importing the module, it sets \"a\" variable \"a\" to 0. \n",
    "The module also has two functions: \"b\", which makes a global variable and assigns the result of the function \"c(a)\" to \"a\" and \"c\", which adds 2 to its input and returns it.\n",
    "Now, what happens when  call \"b\" three times:\n",
    "    \n",
    "The first call to \"b\" sets a to 2.\n",
    "The second call to \"b\" sets a to 4.\n",
    "The third call to \"b\" sets \"a\" to 6.\n",
    "\n",
    "So, evaluating \"a\" in the interpreter after these three calls displays the value 6. \n",
    "In summary, the functions and variables in the module result in a being updated to 6 after three calls to \"b\".\n"
   ]
  },
  {
   "cell_type": "markdown",
   "id": "d196f135",
   "metadata": {},
   "source": [
    "# Question 2\n",
    "\n",
    "Function fileLength(), given to you, takes the name of a file as input and returns\n",
    "the length of the file:\n",
    ">>> fileLength('midterm.py')\n",
    "284\n",
    ">>> fileLength('idterm.py')\n",
    "Traceback (most recent call last):\n",
    "File \"<pyshell#34>\", line 1, in <module>\n",
    " fileLength('idterm.py')\n",
    "File \"/Users/me/midterm.py\", line 3, in fileLength\n",
    " infile = open(filename)\n",
    "FileNotFoundError: [Errno 2] No such file or directory:\n",
    "'idterm.py'\n",
    "As shown above, if the file cannot be found by the interpreter or if it cannot be read\n",
    "as a text file, an exception will be raised. Modify function fileLength() so that a\n",
    "friendly message is printed instead:\n",
    ">>> fileLength('midterm.py')\n",
    "358\n",
    ">>> fileLength('idterm.py')\n",
    "File idterm.py not found.\n"
   ]
  },
  {
   "cell_type": "code",
   "execution_count": 50,
   "id": "f1ac4a69",
   "metadata": {},
   "outputs": [
    {
     "name": "stdout",
     "output_type": "stream",
     "text": [
      "File midterm.py not found.\n",
      "File idterm.py not found.\n"
     ]
    },
    {
     "data": {
      "text/plain": [
       "123"
      ]
     },
     "execution_count": 50,
     "metadata": {},
     "output_type": "execute_result"
    }
   ],
   "source": [
    "def fileLength(filename):\n",
    "    try:\n",
    "        infile = open(filename, 'r')\n",
    "        contents = infile.read()\n",
    "        length = len(contents)\n",
    "        infile.close()\n",
    "        return length\n",
    "    except FileNotFoundError:\n",
    "        print(f\"File {filename} not found.\")\n",
    "\n",
    "fileLength('midterm.py')\n",
    "fileLength('idterm.py')\n",
    "fileLength('Filelength.txt')\n"
   ]
  },
  {
   "cell_type": "markdown",
   "id": "69886528",
   "metadata": {},
   "source": [
    "# Question 3\n",
    "Write a class named Marsupial that can be used as shown below:\n",
    ">>> m = Marsupial()\n",
    ">>> m.put_in_pouch('doll')\n",
    ">>> m.put_in_pouch('firetruck')\n",
    ">>> m.put_in_pouch('kitten')\n",
    ">>> m.pouch_contents()\n",
    "['doll', 'firetruck', 'kitten']\n",
    "\n",
    "Now write a class named Kangaroo as a subclass of Marsupial that inherits all the\n",
    "attributes of Marsupial and also:\n",
    "a. extends the Marsupial __init__ constructor to take, as input, the\n",
    "coordinates x and y of the Kangaroo object,\n",
    "b. supports method jump that takes number values dx and dy as input and\n",
    "moves the kangaroo by dx units along the x-axis and by dy units along the yaxis, and\n",
    "c. overloads the __str__ operator so it behaves as shown below.\n",
    ">>> k = Kangaroo(0,0)\n",
    ">>> print(k)\n",
    "I am a Kangaroo located at coordinates (0,0)\n",
    ">>> k.put_in_pouch('doll')\n",
    ">>> k.put_in_pouch('firetruck')\n",
    ">>> k.put_in_pouch('kitten')\n",
    ">>> k.pouch_contents()\n",
    "['doll', 'firetruck', 'kitten']\n",
    ">>> k.jump(1,0)\n",
    ">>> k.jump(1,0)\n",
    ">>> k.jump(1,0)\n",
    ">>> print(k)\n",
    "I am a Kangaroo located at coordinates (3,0)"
   ]
  },
  {
   "cell_type": "code",
   "execution_count": 56,
   "id": "ccb47d78",
   "metadata": {},
   "outputs": [
    {
     "name": "stdout",
     "output_type": "stream",
     "text": [
      "['doll', 'firetruck', 'kitten']\n",
      "I'm a Kangaroo at (0, 0)\n",
      "['doll', 'firetruck', 'kitten']\n",
      "I'm a Kangaroo at (3, 0)\n"
     ]
    }
   ],
   "source": [
    "class Marsupial:\n",
    "    def __init__(self):\n",
    "        self.pouch = []\n",
    "\n",
    "    def put_in_pouch(self, item):\n",
    "        self.pouch.append(item)\n",
    "\n",
    "    def pouch_contents(self):\n",
    "        return self.pouch\n",
    "\n",
    "class Kangaroo(Marsupial):\n",
    "    def __init__(self, x, y):\n",
    "        super().__init__()\n",
    "        self.x, self.y = x, y\n",
    "\n",
    "    def jump(self, dx, dy):\n",
    "        self.x = self.x + dx\n",
    "        self.y = self.y + dy\n",
    "\n",
    "    def __str__(self):\n",
    "        return f\"I'm a Kangaroo at ({self.x}, {self.y})\"\n",
    "\n",
    "m = Marsupial()\n",
    "m.put_in_pouch('doll')\n",
    "m.put_in_pouch('firetruck')\n",
    "m.put_in_pouch('kitten')\n",
    "print(m.pouch_contents())\n",
    "\n",
    "k = Kangaroo(0, 0)\n",
    "print(k)\n",
    "\n",
    "k.put_in_pouch('doll')\n",
    "k.put_in_pouch('firetruck')\n",
    "k.put_in_pouch('kitten')\n",
    "print(k.pouch_contents())\n",
    "\n",
    "k.jump(1, 0)\n",
    "k.jump(1, 0)\n",
    "k.jump(1, 0)\n",
    "print(k)"
   ]
  },
  {
   "cell_type": "markdown",
   "id": "39843328",
   "metadata": {},
   "source": [
    "# Question 4\n",
    "\n",
    "Write function collatz() that takes a positive integer x as input and prints the\n",
    "Collatz sequence starting at x. A Collatz sequence is obtained by repeatedly applying\n",
    "this rule to the previous number x in the sequence:\n",
    "x = {\n",
    "𝑥/2 𝑖𝑓 𝑥 𝑖𝑠 𝑒𝑣𝑒𝑛\n",
    "3𝑥 + 1 𝑖𝑓 𝑥 𝑖𝑠 𝑜𝑑𝑑\n",
    "Your function should stop when the sequence gets to number 1. Your\n",
    "implementation must be recursive, without any loops.\n",
    "\n",
    ">>> collatz(1)\n",
    "1\n",
    ">>> collatz(10)\n",
    "10\n",
    "5\n",
    "16\n",
    "8\n",
    "4\n",
    "2\n",
    "1"
   ]
  },
  {
   "cell_type": "code",
   "execution_count": 57,
   "id": "84f83e15",
   "metadata": {},
   "outputs": [
    {
     "name": "stdout",
     "output_type": "stream",
     "text": [
      "1\n",
      "10\n",
      "5\n",
      "16\n",
      "8\n",
      "4\n",
      "2\n",
      "1\n"
     ]
    }
   ],
   "source": [
    "def collatz(x):\n",
    "    if x == 1:\n",
    "        print(1)\n",
    "    else:\n",
    "        print(x)\n",
    "        if x % 2 == 0:\n",
    "            collatz(x//2)\n",
    "        else:\n",
    "            collatz(3*x+1)\n",
    "\n",
    "collatz(1)\n",
    "collatz(10)"
   ]
  },
  {
   "cell_type": "markdown",
   "id": "a27c9793",
   "metadata": {},
   "source": [
    "# Question 5\n",
    "Write a recursive method binary() that takes a non-negative\n",
    "integer n and prints the binary representation of integer n.\n",
    ">>> binary(0)\n",
    "0\n",
    ">>> binary(1)\n",
    "1\n",
    ">>> binary(3)\n",
    "11\n",
    ">>> binary(9)\n",
    "1001\n"
   ]
  },
  {
   "cell_type": "code",
   "execution_count": 60,
   "id": "9bd799c8",
   "metadata": {},
   "outputs": [
    {
     "name": "stdout",
     "output_type": "stream",
     "text": [
      "0\n",
      "1\n",
      "11\n",
      "1001"
     ]
    }
   ],
   "source": [
    "def binary(n):\n",
    "    if n == 0:\n",
    "        print(0, end=\"\")\n",
    "    elif n == 1:\n",
    "        print(1, end=\"\")\n",
    "    else:\n",
    "        binary(n // 2)  \n",
    "        print(n % 2, end=\"\")\n",
    "\n",
    "\n",
    "binary(0)\n",
    "print()  \n",
    "binary(1)\n",
    "print()\n",
    "binary(3)\n",
    "print()\n",
    "binary(9)"
   ]
  },
  {
   "cell_type": "markdown",
   "id": "fccd63ba",
   "metadata": {},
   "source": [
    "# Question 6\n",
    "Implement a class named HeadingParser that can be used to parse an HTML\n",
    "document, and retrieve and print all the headings in the document. You should\n",
    "implement your class as a subclass of HTMLParser, defined in Standard Library\n",
    "module html.parser. When fed a string containing HTML code, your class should\n",
    "print the headings, one per line and in the order in which they appear in the\n",
    "document. Each heading should be indented as follows: an h1 heading should have indentation 0, and h2 heading should have indentation 1, etc. Test your\n",
    "implementation using w3c.html.\n",
    ">>> infile = open('w3c.html')\n",
    ">>> content = infile.read()\n",
    ">>> infile.close()\n",
    ">>> hp = HeadingParser()\n",
    ">>> hp.feed(content)\n",
    "W3C Mission\n",
    "Principles\n",
    " "
   ]
  },
  {
   "cell_type": "code",
   "execution_count": 64,
   "id": "02727713",
   "metadata": {},
   "outputs": [
    {
     "name": "stdout",
     "output_type": "stream",
     "text": [
      "W3C Mission\n",
      " Principles\n"
     ]
    }
   ],
   "source": [
    "from html.parser import HTMLParser\n",
    "\n",
    "class HeadingParser(HTMLParser):\n",
    "    def __init__(self):\n",
    "        super().__init__()\n",
    "        self.in_heading = False\n",
    "        self.heading_level = 0\n",
    "\n",
    "    def handle_starttag(self, tag, attrs):\n",
    "        if tag.startswith('h') and tag[1:].isdigit():\n",
    "            self.in_heading = True\n",
    "            self.heading_level = int(tag[1]) - 1\n",
    "\n",
    "    def handle_endtag(self, tag):\n",
    "        if tag.startswith('h') and tag[1:].isdigit():\n",
    "            self.in_heading = False\n",
    "            self.heading_level = 0\n",
    "\n",
    "    def handle_data(self, data):\n",
    "        if self.in_heading:\n",
    "            indentation = \" \" * self.heading_level\n",
    "            print(f\"{indentation}{data.strip() if self.heading_level > 0 else data}\")\n",
    "\n",
    "\n",
    "infile = open('w3c.txt', 'r')\n",
    "content = infile.read()\n",
    "infile.close()\n",
    "\n",
    "hp = HeadingParser()\n",
    "hp.feed(content)\n"
   ]
  },
  {
   "cell_type": "markdown",
   "id": "c10e41cf",
   "metadata": {},
   "source": [
    "# Question 7\n",
    "Implement recursive function webdir() that takes as input: a URL (as a string) and\n",
    "non-negative integers depth and indent. Your function should visit every web\n",
    "page reachable from the starting URL web page in depth clicks or less, and print\n",
    "each web page's URL. As shown below, indentation, specified by indent, should\n",
    "be used to indicate the depth of a URL.\n",
    ">>>\n",
    "webdir('http://reed.cs.depaul.edu/lperkovic/csc242/test1.html'\n",
    ", 2, 0)\n",
    "http://reed.cs.depaul.edu/lperkovic/csc242/test1.html\n",
    " http://reed.cs.depaul.edu/lperkovic/csc242/test2.html\n",
    " http://reed.cs.depaul.edu/lperkovic/csc242/test4.html\n",
    " http://reed.cs.depaul.edu/lperkovic/csc242/test3.html\n",
    " http://reed.cs.depaul.edu/lperkovic/csc242/test4.html"
   ]
  },
  {
   "cell_type": "code",
   "execution_count": null,
   "id": "8aa0dca2",
   "metadata": {},
   "outputs": [],
   "source": [
    "import requests\n",
    "import re\n",
    "\n",
    "def get_links_from_html(html):\n",
    "    links = re.findall(r'href=[\"\\'](https?://.*?)(?=[\"\\'])', html)\n",
    "    return links\n",
    "\n",
    "def webdir(url, depth, indent):\n",
    "    if depth < 0:\n",
    "        return\n",
    "\n",
    "    try:\n",
    "        response = requests.get(url)\n",
    "        response.raise_for_status()\n",
    "    except requests.exceptions.RequestException:\n",
    "        return\n",
    "\n",
    "    print(' ' * indent + url)\n",
    "\n",
    "    if depth > 0:\n",
    "        links = get_links_from_html(response.text)\n",
    "        for link in links:\n",
    "            webdir(link, depth - 1, indent + 1)\n",
    "\n",
    "webdir('http://reed.cs.depaul.edu/lperkovic/csc242/', 2, 0)"
   ]
  },
  {
   "cell_type": "markdown",
   "id": "c3db8e35",
   "metadata": {},
   "source": [
    "# Question 8\n",
    "\n",
    "Write SQL queries on the below database table that return:\n",
    "a) All the temperature data.\n",
    "b) All the cities, but without repetition.\n",
    "c) All the records for India.\n",
    "d) All the Fall records.\n",
    "e) The city, country, and season for which the average rainfall is between 200\n",
    "and 400 millimeters.\n",
    "f) The city and country for which the average Fall temperature is above 20\n",
    "degrees, in increasing temperature order.\n",
    "g) The total annual rainfall for Cairo.\n",
    "h) The total rainfall for each season.\n"
   ]
  },
  {
   "cell_type": "code",
   "execution_count": null,
   "id": "0293fd86",
   "metadata": {},
   "outputs": [],
   "source": [
    "# a) All the temperature data.\n",
    "\n",
    "SELECT Temperature FROM table_name;\n",
    "\n"
   ]
  },
  {
   "cell_type": "code",
   "execution_count": null,
   "id": "2a18c6ce",
   "metadata": {},
   "outputs": [],
   "source": [
    "# b) All the cities, but without repetition.\n",
    "\n",
    "SELECT DISTINCT City FROM table_name;\n"
   ]
  },
  {
   "cell_type": "code",
   "execution_count": null,
   "id": "a588a2ff",
   "metadata": {},
   "outputs": [],
   "source": [
    "# c) All the records for India.c) All the records for India.\n",
    "\n",
    "SELECT *\n",
    "FROM table_name\n",
    "WHERE Country = 'India';\n"
   ]
  },
  {
   "cell_type": "code",
   "execution_count": null,
   "id": "8f40da8a",
   "metadata": {},
   "outputs": [],
   "source": [
    "# d) All the Fall records.\n",
    "\n",
    "SELECT *\n",
    "FROM table_name\n",
    "WHERE Season = 'Fall';\n"
   ]
  },
  {
   "cell_type": "code",
   "execution_count": null,
   "id": "e31337d2",
   "metadata": {},
   "outputs": [],
   "source": [
    "# e) The city, country, and season for which the average rainfall is between 200 and 400 millimeters.\n",
    "\n",
    "SELECT City, Country, Season\n",
    "FROM table_name\n",
    "GROUP BY City, Country, Season\n",
    "HAVING AVG(Rainfall) BETWEEN 200 AND 400;\n",
    "\n"
   ]
  },
  {
   "cell_type": "code",
   "execution_count": null,
   "id": "e9837d1b",
   "metadata": {},
   "outputs": [],
   "source": [
    "# f) The city and country for which the average Fall temperature is above 20  degrees, in increasing temperature order.\n",
    "\n",
    "SELECT City, Country\n",
    "FROM table_name\n",
    "WHERE Season = 'Fall'\n",
    "GROUP BY City, Country\n",
    "HAVING AVG(Temperature(C)) > 20\n",
    "ORDER BY AVG(Temperature(C)) ASC;\n"
   ]
  },
  {
   "cell_type": "code",
   "execution_count": null,
   "id": "1b78b1ec",
   "metadata": {},
   "outputs": [],
   "source": [
    "# g) The total annual rainfall for Cairo.\n",
    "\n",
    "SELECT SUM(Rainfall) AS TotalRainfall\n",
    "FROM table_name\n",
    "WHERE City = 'Cairo';\n"
   ]
  },
  {
   "cell_type": "code",
   "execution_count": null,
   "id": "1c878190",
   "metadata": {},
   "outputs": [],
   "source": [
    "# h) The total rainfall for each season.\n",
    "\n",
    "SELECT Season, SUM(Rainfall) AS TotalRainfall\n",
    "FROM table_name\n",
    "GROUP BY Season;\n"
   ]
  },
  {
   "cell_type": "markdown",
   "id": "4faa9fba",
   "metadata": {},
   "source": [
    "# Question 9 \n",
    "\n",
    ". Suppose list words is defined as follows:\n",
    ">>> words = ['The', 'quick', 'brown', 'fox', 'jumps', 'over',\n",
    "'the', 'lazy', 'dog']\n",
    "Write list comprehension expressions that use list words and generate the following\n",
    "lists:\n",
    "a) ['THE', 'QUICK', 'BROWN', 'FOX', 'JUMPS', 'OVER', 'THE',\n",
    "'LAZY', 'DOG']\n",
    "b) ['the', 'quick', 'brown', 'fox', 'jumps', 'over', 'the',\n",
    "'lazy', 'dog']\n",
    "c) [3, 5, 5, 3, 5, 4, 3, 4, 3] (the list of lengths of words in list\n",
    "words).\n",
    "d) [['THE', 'the', 3], ['QUICK', 'quick', 5], ['BROWN',\n",
    "'brown', 5], ['FOX', 'fox', 3], ['JUMPS', 'jumps', 5],\n",
    "['OVER', 'over', 4], ['THE', 'the', 3], ['LAZY', 'lazy',\n",
    "4], ['DOG', 'dog', 3]] (the list containing a list for every word of list\n",
    "words, where each list contains the word in uppercase and lowercase and the\n",
    "length of the word.)\n",
    "e) ['The', 'quick', 'brown', 'fox', 'jumps', 'over', 'the',\n",
    "'lazy', 'dog'] (the list of words in list words containing 4 or more\n",
    "characters.)"
   ]
  },
  {
   "cell_type": "code",
   "execution_count": 13,
   "id": "65196a6f",
   "metadata": {},
   "outputs": [
    {
     "name": "stdout",
     "output_type": "stream",
     "text": [
      "['THE', 'QUICK', 'BROWN', 'FOX', 'JUMPS', 'OVER', 'THE', 'LAZY', 'DOG']\n",
      "['the', 'quick', 'brown', 'fox', 'jumps', 'over', 'the', 'lazy', 'dog']\n",
      "[3, 5, 5, 3, 5, 4, 3, 4, 3]\n",
      "[['THE', 'the', 3], ['QUICK', 'quick', 5], ['BROWN', 'brown', 5], ['FOX', 'fox', 3], ['JUMPS', 'jumps', 5], ['OVER', 'over', 4], ['THE', 'the', 3], ['LAZY', 'lazy', 4], ['DOG', 'dog', 3]]\n",
      "['quick', 'brown', 'jumps', 'over', 'lazy']\n"
     ]
    }
   ],
   "source": [
    "words = ['The', 'quick', 'brown', 'fox', 'jumps', 'over', 'the', 'lazy', 'dog']\n",
    "\n",
    "uppercase_words = [word.upper() for word in words]\n",
    "print(uppercase_words)\n",
    "\n",
    "lowercase_words = [word.lower() for word in words]\n",
    "print(lowercase_words )\n",
    "       \n",
    "word_lengths = [len(word) for word in words]\n",
    "print(word_lengths )\n",
    "\n",
    "word_info = [[word.upper(), word.lower(), len(word)] for word in words]\n",
    "print(word_info)\n",
    "\n",
    "long_words = [word for word in words if len(word) >= 4]\n",
    "print(long_words )\n",
    "\n"
   ]
  }
 ],
 "metadata": {
  "kernelspec": {
   "display_name": "Python 3 (ipykernel)",
   "language": "python",
   "name": "python3"
  },
  "language_info": {
   "codemirror_mode": {
    "name": "ipython",
    "version": 3
   },
   "file_extension": ".py",
   "mimetype": "text/x-python",
   "name": "python",
   "nbconvert_exporter": "python",
   "pygments_lexer": "ipython3",
   "version": "3.11.4"
  }
 },
 "nbformat": 4,
 "nbformat_minor": 5
}
